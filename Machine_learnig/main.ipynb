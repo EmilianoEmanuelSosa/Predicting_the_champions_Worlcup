{
 "cells": [
  {
   "attachments": {},
   "cell_type": "markdown",
   "metadata": {},
   "source": [
    "<font size=\"6\">Let's predict the new world champion..!</font>"
   ]
  },
  {
   "attachments": {},
   "cell_type": "markdown",
   "metadata": {},
   "source": [
    "'"
   ]
  },
  {
   "cell_type": "code",
   "execution_count": 39,
   "metadata": {},
   "outputs": [],
   "source": [
    "import pandas as pd\n",
    "import pickle \n",
    "from scipy.stats import poisson\n"
   ]
  },
  {
   "attachments": {},
   "cell_type": "markdown",
   "metadata": {},
   "source": [
    "<font size=\"3\">1.Import the tables</font> "
   ]
  },
  {
   "cell_type": "code",
   "execution_count": 40,
   "metadata": {},
   "outputs": [],
   "source": [
    "tables=pickle.load(open('../Web_Scraping /Data/dict_table','rb'))\n",
    "history=pd.read_csv('../Web_Scraping /Data/Clean_Fifa_worldcup_missing_data.csv')\n",
    "fixture=pd.read_csv('../Web_Scraping /Data/Clean_Fixture_2022.csv')\n",
    "history.rename({'HomeAway':'AwayTeam'},axis=1,inplace=True)"
   ]
  },
  {
   "attachments": {},
   "cell_type": "markdown",
   "metadata": {},
   "source": [
    "<font size=\"6\">2.Calculate Team Strength..</font>"
   ]
  },
  {
   "cell_type": "code",
   "execution_count": 41,
   "metadata": {},
   "outputs": [],
   "source": [
    "df_home=history[['HomeTeam','HomeGoals','AwayGoals']]\n",
    "df_away=history[['AwayTeam','AwayGoals','HomeGoals']]\n",
    "df_home=df_home.rename(columns={'HomeTeam':'Team','HomeGoals':'GoalsScored','AwayGoals':'GoalsConceded'})\n",
    "df_away=df_away.rename(columns={'AwayTeam':'Team','HomeGoals':'GoalsConceded','AwayGoals':'GoalsScored'})"
   ]
  },
  {
   "attachments": {},
   "cell_type": "markdown",
   "metadata": {},
   "source": [
    "'"
   ]
  },
  {
   "attachments": {},
   "cell_type": "markdown",
   "metadata": {},
   "source": [
    "<font size=\"3\">Concatenate df_home and df_away make a groupby by 'Team' and calculate the average..</font> "
   ]
  },
  {
   "cell_type": "code",
   "execution_count": 42,
   "metadata": {},
   "outputs": [],
   "source": [
    "df_team_strength=pd.concat([df_home,df_away],ignore_index=True).groupby('Team').mean()"
   ]
  },
  {
   "attachments": {},
   "cell_type": "markdown",
   "metadata": {},
   "source": [
    "<font size=\"3\">This model was chosen because it fits the Poisson distribution</font> "
   ]
  },
  {
   "attachments": {},
   "cell_type": "markdown",
   "metadata": {},
   "source": [
    "<img src=\"../source/Condiciones.png\">"
   ]
  },
  {
   "attachments": {},
   "cell_type": "markdown",
   "metadata": {},
   "source": [
    "<font size=\"3\">So.. how works?</font> "
   ]
  },
  {
   "attachments": {},
   "cell_type": "markdown",
   "metadata": {},
   "source": [
    "<img src=\"../source/Distribucion de poisson.png\">"
   ]
  },
  {
   "attachments": {},
   "cell_type": "markdown",
   "metadata": {},
   "source": [
    "<font size=\"3\">Having understood the formula. let's apply it to our example!!</font> "
   ]
  },
  {
   "cell_type": "code",
   "execution_count": 43,
   "metadata": {},
   "outputs": [],
   "source": [
    "def predict_point(home,away):\n",
    "    if home in df_team_strength.index and away in df_team_strength.index:\n",
    "        #goals scored* goals conceded\n",
    "        lamb_home=df_team_strength.at[home,'GoalsScored']*df_team_strength.at[away,'GoalsConceded']\n",
    "        lamb_away=df_team_strength.at[away,'GoalsScored']*df_team_strength.at[home,'GoalsConceded']\n",
    "        prob_home,prob_away,prob_draw=0,0,0\n",
    "        for x in range(0,11):#Numbers of Goals of Home Team\n",
    "            for y in range(0,11):#Numbers of Goals of Away Team\n",
    "                p=poisson.pmf(x,lamb_home)*poisson.pmf(y,lamb_away)\n",
    "                if x==y:\n",
    "                    prob_draw+=p\n",
    "                elif x>y:\n",
    "                    prob_home+=p\n",
    "                else:\n",
    "                    prob_away+=p\n",
    "        points_home=3*prob_home+prob_draw\n",
    "        points_away=3*prob_away+prob_draw\n",
    "        return (points_home,points_away)\n",
    "    else:\n",
    "        return(0,0)"
   ]
  },
  {
   "attachments": {},
   "cell_type": "markdown",
   "metadata": {},
   "source": [
    "<font size=\"3\">Let's test the function! </font> "
   ]
  },
  {
   "cell_type": "code",
   "execution_count": 44,
   "metadata": {},
   "outputs": [
    {
     "data": {
      "text/plain": [
       "(0.010097814248235259, 2.894594744185821)"
      ]
     },
     "execution_count": 44,
     "metadata": {},
     "output_type": "execute_result"
    }
   ],
   "source": [
    "predict_point('Bolivia','Argentina')"
   ]
  },
  {
   "attachments": {},
   "cell_type": "markdown",
   "metadata": {},
   "source": [
    "<font size=\"6\">3.Predicting the world cup 2022</font>"
   ]
  },
  {
   "attachments": {},
   "cell_type": "markdown",
   "metadata": {},
   "source": [
    "<font size=\"3\">3.1 Group stage</font> "
   ]
  },
  {
   "cell_type": "code",
   "execution_count": 45,
   "metadata": {},
   "outputs": [],
   "source": [
    "fixture_48=fixture[:48].copy()\n",
    "fixture_knockout=fixture[48:56].copy()\n",
    "fixture_quarter=fixture[56:60].copy()\n",
    "fixture_semi=fixture[60:62].copy()\n",
    "fixture_final=fixture[62:].copy()"
   ]
  },
  {
   "cell_type": "code",
   "execution_count": 46,
   "metadata": {},
   "outputs": [],
   "source": [
    "for group in tables:\n",
    "    teams_in_group = tables[group]['Team'].values\n",
    "    df_fixture_group_6 = fixture_48[fixture_48['home'].isin(teams_in_group)]\n",
    "    for index, row in df_fixture_group_6.iterrows():\n",
    "        home, away = row['home'], row['away']\n",
    "        points_home, points_away = predict_point(home, away)\n",
    "        tables[group].loc[tables[group]['Team'] == home, 'Pts'] += points_home\n",
    "        tables[group].loc[tables[group]['Team'] == away, 'Pts'] += points_away\n",
    "\n",
    "    tables[group] = tables[group].sort_values('Pts', ascending=False).reset_index()\n",
    "    tables[group] = tables[group][['Team', 'Pts']]\n",
    "    tables[group] = tables[group].round(0)"
   ]
  },
  {
   "cell_type": "code",
   "execution_count": 51,
   "metadata": {},
   "outputs": [
    {
     "data": {
      "text/html": [
       "<div>\n",
       "<style scoped>\n",
       "    .dataframe tbody tr th:only-of-type {\n",
       "        vertical-align: middle;\n",
       "    }\n",
       "\n",
       "    .dataframe tbody tr th {\n",
       "        vertical-align: top;\n",
       "    }\n",
       "\n",
       "    .dataframe thead th {\n",
       "        text-align: right;\n",
       "    }\n",
       "</style>\n",
       "<table border=\"1\" class=\"dataframe\">\n",
       "  <thead>\n",
       "    <tr style=\"text-align: right;\">\n",
       "      <th></th>\n",
       "      <th>Team</th>\n",
       "      <th>Pts</th>\n",
       "    </tr>\n",
       "  </thead>\n",
       "  <tbody>\n",
       "    <tr>\n",
       "      <th>0</th>\n",
       "      <td>Argentina</td>\n",
       "      <td>7.0</td>\n",
       "    </tr>\n",
       "    <tr>\n",
       "      <th>1</th>\n",
       "      <td>Poland</td>\n",
       "      <td>6.0</td>\n",
       "    </tr>\n",
       "    <tr>\n",
       "      <th>2</th>\n",
       "      <td>Mexico</td>\n",
       "      <td>4.0</td>\n",
       "    </tr>\n",
       "    <tr>\n",
       "      <th>3</th>\n",
       "      <td>Saudi Arabia</td>\n",
       "      <td>1.0</td>\n",
       "    </tr>\n",
       "  </tbody>\n",
       "</table>\n",
       "</div>"
      ],
      "text/plain": [
       "           Team  Pts\n",
       "0     Argentina  7.0\n",
       "1        Poland  6.0\n",
       "2        Mexico  4.0\n",
       "3  Saudi Arabia  1.0"
      ]
     },
     "execution_count": 51,
     "metadata": {},
     "output_type": "execute_result"
    }
   ],
   "source": [
    "tables['Group C']"
   ]
  }
 ],
 "metadata": {
  "kernelspec": {
   "display_name": "Python 3",
   "language": "python",
   "name": "python3"
  },
  "language_info": {
   "codemirror_mode": {
    "name": "ipython",
    "version": 3
   },
   "file_extension": ".py",
   "mimetype": "text/x-python",
   "name": "python",
   "nbconvert_exporter": "python",
   "pygments_lexer": "ipython3",
   "version": "3.10.10"
  },
  "orig_nbformat": 4
 },
 "nbformat": 4,
 "nbformat_minor": 2
}
