{
 "cells": [
  {
   "attachments": {},
   "cell_type": "markdown",
   "metadata": {},
   "source": [
    "<font size=\"6\">Let's predict the new world champion..!</font>"
   ]
  },
  {
   "attachments": {},
   "cell_type": "markdown",
   "metadata": {},
   "source": [
    "'"
   ]
  },
  {
   "cell_type": "code",
   "execution_count": 74,
   "metadata": {},
   "outputs": [],
   "source": [
    "import pandas as pd\n",
    "import pickle \n",
    "from scipy.stats import poisson\n"
   ]
  },
  {
   "attachments": {},
   "cell_type": "markdown",
   "metadata": {},
   "source": [
    "<font size=\"3\">1.Import the tables</font> "
   ]
  },
  {
   "cell_type": "code",
   "execution_count": 75,
   "metadata": {},
   "outputs": [],
   "source": [
    "tables=pickle.load(open('../Web_Scraping /Data/dict_table','rb'))\n",
    "history=pd.read_csv('../Web_Scraping /Data/Clean_Fifa_worldcup_missing_data.csv')\n",
    "fixture=pd.read_csv('../Web_Scraping /Data/Clean_Fixture_2022.csv')\n",
    "history.rename({'HomeAway':'AwayTeam'},axis=1,inplace=True)"
   ]
  },
  {
   "attachments": {},
   "cell_type": "markdown",
   "metadata": {},
   "source": [
    "<font size=\"6\">2.Calculate Team Strength..</font>"
   ]
  },
  {
   "cell_type": "code",
   "execution_count": 76,
   "metadata": {},
   "outputs": [],
   "source": [
    "df_home=history[['HomeTeam','HomeGoals','AwayGoals']]\n",
    "df_away=history[['AwayTeam','AwayGoals','HomeGoals']]\n",
    "df_home=df_home.rename(columns={'HomeTeam':'Team','HomeGoals':'GoalsScored','AwayGoals':'GoalsConceded'})\n",
    "df_away=df_away.rename(columns={'AwayTeam':'Team','HomeGoals':'GoalsConceded','AwayGoals':'GoalsScored'})"
   ]
  },
  {
   "attachments": {},
   "cell_type": "markdown",
   "metadata": {},
   "source": [
    "'"
   ]
  },
  {
   "attachments": {},
   "cell_type": "markdown",
   "metadata": {},
   "source": [
    "<font size=\"3\">Concatenate df_home and df_away make a groupby by 'Team' and calculate the average..</font> "
   ]
  },
  {
   "cell_type": "code",
   "execution_count": 77,
   "metadata": {},
   "outputs": [],
   "source": [
    "df_team_strength=pd.concat([df_home,df_away],ignore_index=True).groupby('Team').mean()"
   ]
  },
  {
   "attachments": {},
   "cell_type": "markdown",
   "metadata": {},
   "source": [
    "<font size=\"3\">This model was chosen because it fits the Poisson distribution</font> "
   ]
  },
  {
   "attachments": {},
   "cell_type": "markdown",
   "metadata": {},
   "source": [
    "<img src=\"../source/Condiciones.png\">"
   ]
  },
  {
   "attachments": {},
   "cell_type": "markdown",
   "metadata": {},
   "source": [
    "<font size=\"3\">So.. how works?</font> "
   ]
  },
  {
   "attachments": {},
   "cell_type": "markdown",
   "metadata": {},
   "source": [
    "<img src=\"../source/Distribucion de poisson.png\">"
   ]
  },
  {
   "attachments": {},
   "cell_type": "markdown",
   "metadata": {},
   "source": [
    "<font size=\"3\">Having understood the formula. let's apply it to our example!!</font> "
   ]
  },
  {
   "cell_type": "code",
   "execution_count": 78,
   "metadata": {},
   "outputs": [],
   "source": [
    "def predict_point(home,away):\n",
    "    if home in df_team_strength.index and away in df_team_strength.index:\n",
    "        #goals scored* goals conceded\n",
    "        lamb_home=df_team_strength.at[home,'GoalsScored']*df_team_strength.at[away,'GoalsConceded']\n",
    "        lamb_away=df_team_strength.at[away,'GoalsScored']*df_team_strength.at[home,'GoalsConceded']\n",
    "        prob_home,prob_away,prob_draw=0,0,0\n",
    "        for x in range(0,11):#Numbers of Goals of Home Team\n",
    "            for y in range(0,11):#Numbers of Goals of Away Team\n",
    "                p=poisson.pmf(x,lamb_home)*poisson.pmf(y,lamb_away)\n",
    "                if x==y:\n",
    "                    prob_draw+=p\n",
    "                elif x>y:\n",
    "                    prob_home+=p\n",
    "                else:\n",
    "                    prob_away+=p\n",
    "        points_home=3*prob_home+prob_draw\n",
    "        points_away=3*prob_away+prob_draw\n",
    "        return (points_home,points_away)\n",
    "    else:\n",
    "        return(0,0)"
   ]
  },
  {
   "attachments": {},
   "cell_type": "markdown",
   "metadata": {},
   "source": [
    "<font size=\"3\">Let's test the function! </font> "
   ]
  },
  {
   "cell_type": "code",
   "execution_count": 79,
   "metadata": {},
   "outputs": [
    {
     "data": {
      "text/plain": [
       "(0.010097814248235259, 2.894594744185821)"
      ]
     },
     "execution_count": 79,
     "metadata": {},
     "output_type": "execute_result"
    }
   ],
   "source": [
    "predict_point('Bolivia','Argentina')"
   ]
  },
  {
   "attachments": {},
   "cell_type": "markdown",
   "metadata": {},
   "source": [
    "<font size=\"6\">3.Predicting the world cup 2022</font>"
   ]
  },
  {
   "attachments": {},
   "cell_type": "markdown",
   "metadata": {},
   "source": [
    "<font size=\"3\">3.1 Group stage</font> "
   ]
  },
  {
   "cell_type": "code",
   "execution_count": 80,
   "metadata": {},
   "outputs": [],
   "source": [
    "fixture_48=fixture[:48].copy()\n",
    "fixture_knockout=fixture[48:56].copy()\n",
    "fixture_quarter=fixture[56:60].copy()\n",
    "fixture_semi=fixture[60:62].copy()\n",
    "fixture_final=fixture[62:].copy()"
   ]
  },
  {
   "cell_type": "code",
   "execution_count": 81,
   "metadata": {},
   "outputs": [],
   "source": [
    "for group in tables:\n",
    "    teams_in_group = tables[group]['Team'].values\n",
    "    df_fixture_group_6 = fixture_48[fixture_48['home'].isin(teams_in_group)]\n",
    "    for index, row in df_fixture_group_6.iterrows():\n",
    "        home, away = row['home'], row['away']\n",
    "        points_home, points_away = predict_point(home, away)\n",
    "        tables[group].loc[tables[group]['Team'] == home, 'Pts'] += points_home\n",
    "        tables[group].loc[tables[group]['Team'] == away, 'Pts'] += points_away\n",
    "\n",
    "    tables[group] = tables[group].sort_values('Pts', ascending=False).reset_index()\n",
    "    tables[group] = tables[group][['Team', 'Pts']]\n",
    "    tables[group] = tables[group].round(0)"
   ]
  },
  {
   "attachments": {},
   "cell_type": "markdown",
   "metadata": {},
   "source": [
    "<font size=\"3\">3.2 knockout</font> "
   ]
  },
  {
   "cell_type": "code",
   "execution_count": 82,
   "metadata": {},
   "outputs": [
    {
     "data": {
      "text/html": [
       "<div>\n",
       "<style scoped>\n",
       "    .dataframe tbody tr th:only-of-type {\n",
       "        vertical-align: middle;\n",
       "    }\n",
       "\n",
       "    .dataframe tbody tr th {\n",
       "        vertical-align: top;\n",
       "    }\n",
       "\n",
       "    .dataframe thead th {\n",
       "        text-align: right;\n",
       "    }\n",
       "</style>\n",
       "<table border=\"1\" class=\"dataframe\">\n",
       "  <thead>\n",
       "    <tr style=\"text-align: right;\">\n",
       "      <th></th>\n",
       "      <th>home</th>\n",
       "      <th>score</th>\n",
       "      <th>away</th>\n",
       "      <th>year</th>\n",
       "    </tr>\n",
       "  </thead>\n",
       "  <tbody>\n",
       "    <tr>\n",
       "      <th>48</th>\n",
       "      <td>Winners Group A</td>\n",
       "      <td>Match 49</td>\n",
       "      <td>Runners-up Group B</td>\n",
       "      <td>2022</td>\n",
       "    </tr>\n",
       "    <tr>\n",
       "      <th>49</th>\n",
       "      <td>Winners Group C</td>\n",
       "      <td>Match 50</td>\n",
       "      <td>Runners-up Group D</td>\n",
       "      <td>2022</td>\n",
       "    </tr>\n",
       "    <tr>\n",
       "      <th>50</th>\n",
       "      <td>Winners Group D</td>\n",
       "      <td>Match 52</td>\n",
       "      <td>Runners-up Group C</td>\n",
       "      <td>2022</td>\n",
       "    </tr>\n",
       "    <tr>\n",
       "      <th>51</th>\n",
       "      <td>Winners Group B</td>\n",
       "      <td>Match 51</td>\n",
       "      <td>Runners-up Group A</td>\n",
       "      <td>2022</td>\n",
       "    </tr>\n",
       "    <tr>\n",
       "      <th>52</th>\n",
       "      <td>Winners Group E</td>\n",
       "      <td>Match 53</td>\n",
       "      <td>Runners-up Group F</td>\n",
       "      <td>2022</td>\n",
       "    </tr>\n",
       "    <tr>\n",
       "      <th>53</th>\n",
       "      <td>Winners Group G</td>\n",
       "      <td>Match 54</td>\n",
       "      <td>Runners-up Group H</td>\n",
       "      <td>2022</td>\n",
       "    </tr>\n",
       "    <tr>\n",
       "      <th>54</th>\n",
       "      <td>Winners Group F</td>\n",
       "      <td>Match 55</td>\n",
       "      <td>Runners-up Group E</td>\n",
       "      <td>2022</td>\n",
       "    </tr>\n",
       "    <tr>\n",
       "      <th>55</th>\n",
       "      <td>Winners Group H</td>\n",
       "      <td>Match 56</td>\n",
       "      <td>Runners-up Group G</td>\n",
       "      <td>2022</td>\n",
       "    </tr>\n",
       "  </tbody>\n",
       "</table>\n",
       "</div>"
      ],
      "text/plain": [
       "               home     score                away  year\n",
       "48  Winners Group A  Match 49  Runners-up Group B  2022\n",
       "49  Winners Group C  Match 50  Runners-up Group D  2022\n",
       "50  Winners Group D  Match 52  Runners-up Group C  2022\n",
       "51  Winners Group B  Match 51  Runners-up Group A  2022\n",
       "52  Winners Group E  Match 53  Runners-up Group F  2022\n",
       "53  Winners Group G  Match 54  Runners-up Group H  2022\n",
       "54  Winners Group F  Match 55  Runners-up Group E  2022\n",
       "55  Winners Group H  Match 56  Runners-up Group G  2022"
      ]
     },
     "execution_count": 82,
     "metadata": {},
     "output_type": "execute_result"
    }
   ],
   "source": [
    "fixture_knockout"
   ]
  },
  {
   "cell_type": "code",
   "execution_count": 83,
   "metadata": {},
   "outputs": [
    {
     "data": {
      "text/html": [
       "<div>\n",
       "<style scoped>\n",
       "    .dataframe tbody tr th:only-of-type {\n",
       "        vertical-align: middle;\n",
       "    }\n",
       "\n",
       "    .dataframe tbody tr th {\n",
       "        vertical-align: top;\n",
       "    }\n",
       "\n",
       "    .dataframe thead th {\n",
       "        text-align: right;\n",
       "    }\n",
       "</style>\n",
       "<table border=\"1\" class=\"dataframe\">\n",
       "  <thead>\n",
       "    <tr style=\"text-align: right;\">\n",
       "      <th></th>\n",
       "      <th>home</th>\n",
       "      <th>score</th>\n",
       "      <th>away</th>\n",
       "      <th>year</th>\n",
       "      <th>winner</th>\n",
       "    </tr>\n",
       "  </thead>\n",
       "  <tbody>\n",
       "    <tr>\n",
       "      <th>48</th>\n",
       "      <td>Netherlands</td>\n",
       "      <td>Match 49</td>\n",
       "      <td>Wales</td>\n",
       "      <td>2022</td>\n",
       "      <td>?</td>\n",
       "    </tr>\n",
       "    <tr>\n",
       "      <th>49</th>\n",
       "      <td>Argentina</td>\n",
       "      <td>Match 50</td>\n",
       "      <td>Denmark</td>\n",
       "      <td>2022</td>\n",
       "      <td>?</td>\n",
       "    </tr>\n",
       "    <tr>\n",
       "      <th>50</th>\n",
       "      <td>France</td>\n",
       "      <td>Match 52</td>\n",
       "      <td>Poland</td>\n",
       "      <td>2022</td>\n",
       "      <td>?</td>\n",
       "    </tr>\n",
       "    <tr>\n",
       "      <th>51</th>\n",
       "      <td>England</td>\n",
       "      <td>Match 51</td>\n",
       "      <td>Senegal</td>\n",
       "      <td>2022</td>\n",
       "      <td>?</td>\n",
       "    </tr>\n",
       "    <tr>\n",
       "      <th>52</th>\n",
       "      <td>Germany</td>\n",
       "      <td>Match 53</td>\n",
       "      <td>Belgium</td>\n",
       "      <td>2022</td>\n",
       "      <td>?</td>\n",
       "    </tr>\n",
       "    <tr>\n",
       "      <th>53</th>\n",
       "      <td>Brazil</td>\n",
       "      <td>Match 54</td>\n",
       "      <td>Uruguay</td>\n",
       "      <td>2022</td>\n",
       "      <td>?</td>\n",
       "    </tr>\n",
       "    <tr>\n",
       "      <th>54</th>\n",
       "      <td>Croatia</td>\n",
       "      <td>Match 55</td>\n",
       "      <td>Spain</td>\n",
       "      <td>2022</td>\n",
       "      <td>?</td>\n",
       "    </tr>\n",
       "    <tr>\n",
       "      <th>55</th>\n",
       "      <td>Portugal</td>\n",
       "      <td>Match 56</td>\n",
       "      <td>Switzerland</td>\n",
       "      <td>2022</td>\n",
       "      <td>?</td>\n",
       "    </tr>\n",
       "  </tbody>\n",
       "</table>\n",
       "</div>"
      ],
      "text/plain": [
       "           home     score         away  year winner\n",
       "48  Netherlands  Match 49        Wales  2022      ?\n",
       "49    Argentina  Match 50      Denmark  2022      ?\n",
       "50       France  Match 52       Poland  2022      ?\n",
       "51      England  Match 51      Senegal  2022      ?\n",
       "52      Germany  Match 53      Belgium  2022      ?\n",
       "53       Brazil  Match 54      Uruguay  2022      ?\n",
       "54      Croatia  Match 55        Spain  2022      ?\n",
       "55     Portugal  Match 56  Switzerland  2022      ?"
      ]
     },
     "execution_count": 83,
     "metadata": {},
     "output_type": "execute_result"
    }
   ],
   "source": [
    "for group in tables:\n",
    "    group_winner = tables[group].loc[0, 'Team']\n",
    "    runners_up = tables[group].loc[1, 'Team']\n",
    "    fixture_knockout.replace({f'Winners {group}':group_winner,\n",
    "                                 f'Runners-up {group}':runners_up}, inplace=True)\n",
    "\n",
    "fixture_knockout['winner'] = '?'\n",
    "fixture_knockout"
   ]
  },
  {
   "attachments": {},
   "cell_type": "markdown",
   "metadata": {},
   "source": [
    "<font size=\"3\">And the winner of knockouts are..</font> "
   ]
  },
  {
   "cell_type": "code",
   "execution_count": 84,
   "metadata": {},
   "outputs": [],
   "source": [
    "def get_winner(df_fixture_updated):\n",
    "    for index, row in df_fixture_updated.iterrows():\n",
    "        home, away = row['home'], row['away']\n",
    "        points_home, points_away = predict_point(home, away)\n",
    "        if points_home > points_away:\n",
    "            winner = home\n",
    "        else:\n",
    "            winner = away\n",
    "        df_fixture_updated.loc[index, 'winner'] = winner\n",
    "    return df_fixture_updated"
   ]
  },
  {
   "cell_type": "code",
   "execution_count": 85,
   "metadata": {},
   "outputs": [
    {
     "data": {
      "text/html": [
       "<div>\n",
       "<style scoped>\n",
       "    .dataframe tbody tr th:only-of-type {\n",
       "        vertical-align: middle;\n",
       "    }\n",
       "\n",
       "    .dataframe tbody tr th {\n",
       "        vertical-align: top;\n",
       "    }\n",
       "\n",
       "    .dataframe thead th {\n",
       "        text-align: right;\n",
       "    }\n",
       "</style>\n",
       "<table border=\"1\" class=\"dataframe\">\n",
       "  <thead>\n",
       "    <tr style=\"text-align: right;\">\n",
       "      <th></th>\n",
       "      <th>home</th>\n",
       "      <th>score</th>\n",
       "      <th>away</th>\n",
       "      <th>year</th>\n",
       "      <th>winner</th>\n",
       "    </tr>\n",
       "  </thead>\n",
       "  <tbody>\n",
       "    <tr>\n",
       "      <th>48</th>\n",
       "      <td>Netherlands</td>\n",
       "      <td>Match 49</td>\n",
       "      <td>Wales</td>\n",
       "      <td>2022</td>\n",
       "      <td>Netherlands</td>\n",
       "    </tr>\n",
       "    <tr>\n",
       "      <th>49</th>\n",
       "      <td>Argentina</td>\n",
       "      <td>Match 50</td>\n",
       "      <td>Denmark</td>\n",
       "      <td>2022</td>\n",
       "      <td>Argentina</td>\n",
       "    </tr>\n",
       "    <tr>\n",
       "      <th>50</th>\n",
       "      <td>France</td>\n",
       "      <td>Match 52</td>\n",
       "      <td>Poland</td>\n",
       "      <td>2022</td>\n",
       "      <td>France</td>\n",
       "    </tr>\n",
       "    <tr>\n",
       "      <th>51</th>\n",
       "      <td>England</td>\n",
       "      <td>Match 51</td>\n",
       "      <td>Senegal</td>\n",
       "      <td>2022</td>\n",
       "      <td>England</td>\n",
       "    </tr>\n",
       "    <tr>\n",
       "      <th>52</th>\n",
       "      <td>Germany</td>\n",
       "      <td>Match 53</td>\n",
       "      <td>Belgium</td>\n",
       "      <td>2022</td>\n",
       "      <td>Germany</td>\n",
       "    </tr>\n",
       "    <tr>\n",
       "      <th>53</th>\n",
       "      <td>Brazil</td>\n",
       "      <td>Match 54</td>\n",
       "      <td>Uruguay</td>\n",
       "      <td>2022</td>\n",
       "      <td>Brazil</td>\n",
       "    </tr>\n",
       "    <tr>\n",
       "      <th>54</th>\n",
       "      <td>Croatia</td>\n",
       "      <td>Match 55</td>\n",
       "      <td>Spain</td>\n",
       "      <td>2022</td>\n",
       "      <td>Spain</td>\n",
       "    </tr>\n",
       "    <tr>\n",
       "      <th>55</th>\n",
       "      <td>Portugal</td>\n",
       "      <td>Match 56</td>\n",
       "      <td>Switzerland</td>\n",
       "      <td>2022</td>\n",
       "      <td>Portugal</td>\n",
       "    </tr>\n",
       "  </tbody>\n",
       "</table>\n",
       "</div>"
      ],
      "text/plain": [
       "           home     score         away  year       winner\n",
       "48  Netherlands  Match 49        Wales  2022  Netherlands\n",
       "49    Argentina  Match 50      Denmark  2022    Argentina\n",
       "50       France  Match 52       Poland  2022       France\n",
       "51      England  Match 51      Senegal  2022      England\n",
       "52      Germany  Match 53      Belgium  2022      Germany\n",
       "53       Brazil  Match 54      Uruguay  2022       Brazil\n",
       "54      Croatia  Match 55        Spain  2022        Spain\n",
       "55     Portugal  Match 56  Switzerland  2022     Portugal"
      ]
     },
     "execution_count": 85,
     "metadata": {},
     "output_type": "execute_result"
    }
   ],
   "source": [
    "get_winner(fixture_knockout)"
   ]
  },
  {
   "attachments": {},
   "cell_type": "markdown",
   "metadata": {},
   "source": [
    "<font size=\"3\">3.3 Quarter Final</font> "
   ]
  },
  {
   "cell_type": "code",
   "execution_count": 86,
   "metadata": {},
   "outputs": [],
   "source": [
    "def update_table(df_fixture_round_1, df_fixture_round_2):\n",
    "    for index, row in df_fixture_round_1.iterrows():\n",
    "        winner = df_fixture_round_1.loc[index, 'winner']\n",
    "        match = df_fixture_round_1.loc[index, 'score']\n",
    "        df_fixture_round_2.replace({f'Winners {match}':winner}, inplace=True)\n",
    "    df_fixture_round_2['winner'] = '?'\n",
    "    return df_fixture_round_2"
   ]
  },
  {
   "cell_type": "code",
   "execution_count": 87,
   "metadata": {},
   "outputs": [
    {
     "data": {
      "text/html": [
       "<div>\n",
       "<style scoped>\n",
       "    .dataframe tbody tr th:only-of-type {\n",
       "        vertical-align: middle;\n",
       "    }\n",
       "\n",
       "    .dataframe tbody tr th {\n",
       "        vertical-align: top;\n",
       "    }\n",
       "\n",
       "    .dataframe thead th {\n",
       "        text-align: right;\n",
       "    }\n",
       "</style>\n",
       "<table border=\"1\" class=\"dataframe\">\n",
       "  <thead>\n",
       "    <tr style=\"text-align: right;\">\n",
       "      <th></th>\n",
       "      <th>home</th>\n",
       "      <th>score</th>\n",
       "      <th>away</th>\n",
       "      <th>year</th>\n",
       "      <th>winner</th>\n",
       "    </tr>\n",
       "  </thead>\n",
       "  <tbody>\n",
       "    <tr>\n",
       "      <th>56</th>\n",
       "      <td>Germany</td>\n",
       "      <td>Match 58</td>\n",
       "      <td>Brazil</td>\n",
       "      <td>2022</td>\n",
       "      <td>?</td>\n",
       "    </tr>\n",
       "    <tr>\n",
       "      <th>57</th>\n",
       "      <td>Netherlands</td>\n",
       "      <td>Match 57</td>\n",
       "      <td>Argentina</td>\n",
       "      <td>2022</td>\n",
       "      <td>?</td>\n",
       "    </tr>\n",
       "    <tr>\n",
       "      <th>58</th>\n",
       "      <td>Spain</td>\n",
       "      <td>Match 60</td>\n",
       "      <td>Portugal</td>\n",
       "      <td>2022</td>\n",
       "      <td>?</td>\n",
       "    </tr>\n",
       "    <tr>\n",
       "      <th>59</th>\n",
       "      <td>England</td>\n",
       "      <td>Match 59</td>\n",
       "      <td>France</td>\n",
       "      <td>2022</td>\n",
       "      <td>?</td>\n",
       "    </tr>\n",
       "  </tbody>\n",
       "</table>\n",
       "</div>"
      ],
      "text/plain": [
       "           home     score       away  year winner\n",
       "56      Germany  Match 58     Brazil  2022      ?\n",
       "57  Netherlands  Match 57  Argentina  2022      ?\n",
       "58        Spain  Match 60   Portugal  2022      ?\n",
       "59      England  Match 59     France  2022      ?"
      ]
     },
     "execution_count": 87,
     "metadata": {},
     "output_type": "execute_result"
    }
   ],
   "source": [
    "update_table(fixture_knockout,fixture_quarter)"
   ]
  },
  {
   "attachments": {},
   "cell_type": "markdown",
   "metadata": {},
   "source": [
    "<font size=\"3\">And the Winner is..</font> "
   ]
  },
  {
   "cell_type": "code",
   "execution_count": 88,
   "metadata": {},
   "outputs": [
    {
     "data": {
      "text/html": [
       "<div>\n",
       "<style scoped>\n",
       "    .dataframe tbody tr th:only-of-type {\n",
       "        vertical-align: middle;\n",
       "    }\n",
       "\n",
       "    .dataframe tbody tr th {\n",
       "        vertical-align: top;\n",
       "    }\n",
       "\n",
       "    .dataframe thead th {\n",
       "        text-align: right;\n",
       "    }\n",
       "</style>\n",
       "<table border=\"1\" class=\"dataframe\">\n",
       "  <thead>\n",
       "    <tr style=\"text-align: right;\">\n",
       "      <th></th>\n",
       "      <th>home</th>\n",
       "      <th>score</th>\n",
       "      <th>away</th>\n",
       "      <th>year</th>\n",
       "      <th>winner</th>\n",
       "    </tr>\n",
       "  </thead>\n",
       "  <tbody>\n",
       "    <tr>\n",
       "      <th>56</th>\n",
       "      <td>Germany</td>\n",
       "      <td>Match 58</td>\n",
       "      <td>Brazil</td>\n",
       "      <td>2022</td>\n",
       "      <td>Brazil</td>\n",
       "    </tr>\n",
       "    <tr>\n",
       "      <th>57</th>\n",
       "      <td>Netherlands</td>\n",
       "      <td>Match 57</td>\n",
       "      <td>Argentina</td>\n",
       "      <td>2022</td>\n",
       "      <td>Netherlands</td>\n",
       "    </tr>\n",
       "    <tr>\n",
       "      <th>58</th>\n",
       "      <td>Spain</td>\n",
       "      <td>Match 60</td>\n",
       "      <td>Portugal</td>\n",
       "      <td>2022</td>\n",
       "      <td>Portugal</td>\n",
       "    </tr>\n",
       "    <tr>\n",
       "      <th>59</th>\n",
       "      <td>England</td>\n",
       "      <td>Match 59</td>\n",
       "      <td>France</td>\n",
       "      <td>2022</td>\n",
       "      <td>France</td>\n",
       "    </tr>\n",
       "  </tbody>\n",
       "</table>\n",
       "</div>"
      ],
      "text/plain": [
       "           home     score       away  year       winner\n",
       "56      Germany  Match 58     Brazil  2022       Brazil\n",
       "57  Netherlands  Match 57  Argentina  2022  Netherlands\n",
       "58        Spain  Match 60   Portugal  2022     Portugal\n",
       "59      England  Match 59     France  2022       France"
      ]
     },
     "execution_count": 88,
     "metadata": {},
     "output_type": "execute_result"
    }
   ],
   "source": [
    "get_winner(fixture_quarter)"
   ]
  },
  {
   "attachments": {},
   "cell_type": "markdown",
   "metadata": {},
   "source": [
    "<font size=\"3\">3.4 Semi Final</font> "
   ]
  },
  {
   "cell_type": "code",
   "execution_count": 89,
   "metadata": {},
   "outputs": [
    {
     "data": {
      "text/html": [
       "<div>\n",
       "<style scoped>\n",
       "    .dataframe tbody tr th:only-of-type {\n",
       "        vertical-align: middle;\n",
       "    }\n",
       "\n",
       "    .dataframe tbody tr th {\n",
       "        vertical-align: top;\n",
       "    }\n",
       "\n",
       "    .dataframe thead th {\n",
       "        text-align: right;\n",
       "    }\n",
       "</style>\n",
       "<table border=\"1\" class=\"dataframe\">\n",
       "  <thead>\n",
       "    <tr style=\"text-align: right;\">\n",
       "      <th></th>\n",
       "      <th>home</th>\n",
       "      <th>score</th>\n",
       "      <th>away</th>\n",
       "      <th>year</th>\n",
       "      <th>winner</th>\n",
       "    </tr>\n",
       "  </thead>\n",
       "  <tbody>\n",
       "    <tr>\n",
       "      <th>60</th>\n",
       "      <td>Netherlands</td>\n",
       "      <td>Match 61</td>\n",
       "      <td>Brazil</td>\n",
       "      <td>2022</td>\n",
       "      <td>?</td>\n",
       "    </tr>\n",
       "    <tr>\n",
       "      <th>61</th>\n",
       "      <td>France</td>\n",
       "      <td>Match 62</td>\n",
       "      <td>Portugal</td>\n",
       "      <td>2022</td>\n",
       "      <td>?</td>\n",
       "    </tr>\n",
       "  </tbody>\n",
       "</table>\n",
       "</div>"
      ],
      "text/plain": [
       "           home     score      away  year winner\n",
       "60  Netherlands  Match 61    Brazil  2022      ?\n",
       "61       France  Match 62  Portugal  2022      ?"
      ]
     },
     "execution_count": 89,
     "metadata": {},
     "output_type": "execute_result"
    }
   ],
   "source": [
    "update_table(fixture_quarter,fixture_semi)"
   ]
  },
  {
   "attachments": {},
   "cell_type": "markdown",
   "metadata": {},
   "source": [
    "<font size=\"3\">And the Winner is..</font> "
   ]
  },
  {
   "cell_type": "code",
   "execution_count": 90,
   "metadata": {},
   "outputs": [
    {
     "data": {
      "text/html": [
       "<div>\n",
       "<style scoped>\n",
       "    .dataframe tbody tr th:only-of-type {\n",
       "        vertical-align: middle;\n",
       "    }\n",
       "\n",
       "    .dataframe tbody tr th {\n",
       "        vertical-align: top;\n",
       "    }\n",
       "\n",
       "    .dataframe thead th {\n",
       "        text-align: right;\n",
       "    }\n",
       "</style>\n",
       "<table border=\"1\" class=\"dataframe\">\n",
       "  <thead>\n",
       "    <tr style=\"text-align: right;\">\n",
       "      <th></th>\n",
       "      <th>home</th>\n",
       "      <th>score</th>\n",
       "      <th>away</th>\n",
       "      <th>year</th>\n",
       "      <th>winner</th>\n",
       "    </tr>\n",
       "  </thead>\n",
       "  <tbody>\n",
       "    <tr>\n",
       "      <th>60</th>\n",
       "      <td>Netherlands</td>\n",
       "      <td>Match 61</td>\n",
       "      <td>Brazil</td>\n",
       "      <td>2022</td>\n",
       "      <td>Brazil</td>\n",
       "    </tr>\n",
       "    <tr>\n",
       "      <th>61</th>\n",
       "      <td>France</td>\n",
       "      <td>Match 62</td>\n",
       "      <td>Portugal</td>\n",
       "      <td>2022</td>\n",
       "      <td>France</td>\n",
       "    </tr>\n",
       "  </tbody>\n",
       "</table>\n",
       "</div>"
      ],
      "text/plain": [
       "           home     score      away  year  winner\n",
       "60  Netherlands  Match 61    Brazil  2022  Brazil\n",
       "61       France  Match 62  Portugal  2022  France"
      ]
     },
     "execution_count": 90,
     "metadata": {},
     "output_type": "execute_result"
    }
   ],
   "source": [
    "get_winner(fixture_semi)"
   ]
  },
  {
   "cell_type": "code",
   "execution_count": 97,
   "metadata": {},
   "outputs": [
    {
     "data": {
      "text/html": [
       "<div>\n",
       "<style scoped>\n",
       "    .dataframe tbody tr th:only-of-type {\n",
       "        vertical-align: middle;\n",
       "    }\n",
       "\n",
       "    .dataframe tbody tr th {\n",
       "        vertical-align: top;\n",
       "    }\n",
       "\n",
       "    .dataframe thead th {\n",
       "        text-align: right;\n",
       "    }\n",
       "</style>\n",
       "<table border=\"1\" class=\"dataframe\">\n",
       "  <thead>\n",
       "    <tr style=\"text-align: right;\">\n",
       "      <th></th>\n",
       "      <th>home</th>\n",
       "      <th>score</th>\n",
       "      <th>away</th>\n",
       "      <th>year</th>\n",
       "      <th>winner</th>\n",
       "    </tr>\n",
       "  </thead>\n",
       "  <tbody>\n",
       "    <tr>\n",
       "      <th>62</th>\n",
       "      <td>Losers Match 61</td>\n",
       "      <td>Match 63</td>\n",
       "      <td>Losers Match 62</td>\n",
       "      <td>2022</td>\n",
       "      <td>?</td>\n",
       "    </tr>\n",
       "    <tr>\n",
       "      <th>63</th>\n",
       "      <td>Brazil</td>\n",
       "      <td>Match 64</td>\n",
       "      <td>France</td>\n",
       "      <td>2022</td>\n",
       "      <td>?</td>\n",
       "    </tr>\n",
       "  </tbody>\n",
       "</table>\n",
       "</div>"
      ],
      "text/plain": [
       "               home     score             away  year winner\n",
       "62  Losers Match 61  Match 63  Losers Match 62  2022      ?\n",
       "63           Brazil  Match 64           France  2022      ?"
      ]
     },
     "execution_count": 97,
     "metadata": {},
     "output_type": "execute_result"
    }
   ],
   "source": [
    "\n",
    "update_table(fixture_semi,fixture_final)"
   ]
  },
  {
   "attachments": {},
   "cell_type": "markdown",
   "metadata": {},
   "source": [
    "<font size=\"3\">3.5 Final!!</font> "
   ]
  },
  {
   "attachments": {},
   "cell_type": "markdown",
   "metadata": {},
   "source": [
    "<font size=\"3\">And the Winner of  World Cup is....</font> "
   ]
  },
  {
   "cell_type": "code",
   "execution_count": 98,
   "metadata": {},
   "outputs": [
    {
     "data": {
      "text/html": [
       "<div>\n",
       "<style scoped>\n",
       "    .dataframe tbody tr th:only-of-type {\n",
       "        vertical-align: middle;\n",
       "    }\n",
       "\n",
       "    .dataframe tbody tr th {\n",
       "        vertical-align: top;\n",
       "    }\n",
       "\n",
       "    .dataframe thead th {\n",
       "        text-align: right;\n",
       "    }\n",
       "</style>\n",
       "<table border=\"1\" class=\"dataframe\">\n",
       "  <thead>\n",
       "    <tr style=\"text-align: right;\">\n",
       "      <th></th>\n",
       "      <th>home</th>\n",
       "      <th>score</th>\n",
       "      <th>away</th>\n",
       "      <th>year</th>\n",
       "      <th>winner</th>\n",
       "    </tr>\n",
       "  </thead>\n",
       "  <tbody>\n",
       "    <tr>\n",
       "      <th>62</th>\n",
       "      <td>Losers Match 61</td>\n",
       "      <td>Match 63</td>\n",
       "      <td>Losers Match 62</td>\n",
       "      <td>2022</td>\n",
       "      <td>Losers Match 62</td>\n",
       "    </tr>\n",
       "    <tr>\n",
       "      <th>63</th>\n",
       "      <td>Brazil</td>\n",
       "      <td>Match 64</td>\n",
       "      <td>France</td>\n",
       "      <td>2022</td>\n",
       "      <td>Brazil</td>\n",
       "    </tr>\n",
       "  </tbody>\n",
       "</table>\n",
       "</div>"
      ],
      "text/plain": [
       "               home     score             away  year           winner\n",
       "62  Losers Match 61  Match 63  Losers Match 62  2022  Losers Match 62\n",
       "63           Brazil  Match 64           France  2022           Brazil"
      ]
     },
     "execution_count": 98,
     "metadata": {},
     "output_type": "execute_result"
    }
   ],
   "source": [
    "get_winner(fixture_final)"
   ]
  }
 ],
 "metadata": {
  "kernelspec": {
   "display_name": "Python 3",
   "language": "python",
   "name": "python3"
  },
  "language_info": {
   "codemirror_mode": {
    "name": "ipython",
    "version": 3
   },
   "file_extension": ".py",
   "mimetype": "text/x-python",
   "name": "python",
   "nbconvert_exporter": "python",
   "pygments_lexer": "ipython3",
   "version": "3.10.10"
  },
  "orig_nbformat": 4
 },
 "nbformat": 4,
 "nbformat_minor": 2
}
