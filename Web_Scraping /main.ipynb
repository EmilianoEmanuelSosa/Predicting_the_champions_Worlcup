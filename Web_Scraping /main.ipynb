{
 "cells": [
  {
   "cell_type": "code",
   "execution_count": 2,
   "metadata": {},
   "outputs": [],
   "source": [
    "import pandas as pd\n",
    "from string import ascii_uppercase as alpha\n",
    "import pickle\n",
    "from bs4 import BeautifulSoup\n",
    "import requests"
   ]
  },
  {
   "cell_type": "code",
   "execution_count": 25,
   "metadata": {},
   "outputs": [],
   "source": [
    "all_tables=pd.read_html('https://web.archive.org/web/20221002180521/https://en.wikipedia.org/wiki/2022_FIFA_World_Cup')"
   ]
  },
  {
   "cell_type": "code",
   "execution_count": 30,
   "metadata": {},
   "outputs": [],
   "source": [
    "dict_tables={}\n",
    "for letter,i in zip(alpha,range(11,67,7)):\n",
    "    df=all_tables[i]\n",
    "    df.rename(columns={df.columns[1]:'Team'},inplace=True)\n",
    "    dict_tables[f\"Cluster:{letter}\"]=df"
   ]
  },
  {
   "attachments": {},
   "cell_type": "markdown",
   "metadata": {},
   "source": [
    "To csv Fixture.."
   ]
  },
  {
   "cell_type": "code",
   "execution_count": 31,
   "metadata": {},
   "outputs": [],
   "source": [
    "df=pd.concat(dict_tables)\n",
    "df.to_csv('Fixture_2022.csv',index=False)"
   ]
  },
  {
   "cell_type": "code",
   "execution_count": 23,
   "metadata": {},
   "outputs": [],
   "source": [
    "with open('dict_tables.csv','wb') as output:\n",
    "    pickle.dump(dict_tables,output)"
   ]
  },
  {
   "attachments": {},
   "cell_type": "markdown",
   "metadata": {},
   "source": [
    "Starting to filter the page"
   ]
  },
  {
   "cell_type": "code",
   "execution_count": 1,
   "metadata": {},
   "outputs": [],
   "source": [
    "years=[1930,1934,1938,1950,1954,1958,1962,1966,1970,1974,1978,1982,1986,1990,1994,1998,2002,2006,2010,2014,2018]"
   ]
  },
  {
   "attachments": {},
   "cell_type": "markdown",
   "metadata": {},
   "source": [
    "making a request"
   ]
  },
  {
   "cell_type": "code",
   "execution_count": 41,
   "metadata": {},
   "outputs": [],
   "source": [
    "web='https://en.wikipedia.org/wiki/2014_FIFA_World_Cup'\n",
    "response=requests.get(web)"
   ]
  },
  {
   "attachments": {},
   "cell_type": "markdown",
   "metadata": {},
   "source": [
    "Loading text with Beatifulsoup"
   ]
  },
  {
   "cell_type": "code",
   "execution_count": null,
   "metadata": {},
   "outputs": [],
   "source": [
    "content=response.text\n",
    "soup=BeautifulSoup(content,'lxml')"
   ]
  },
  {
   "attachments": {},
   "cell_type": "markdown",
   "metadata": {},
   "source": [
    "Filtering rows on matches"
   ]
  },
  {
   "cell_type": "code",
   "execution_count": 44,
   "metadata": {},
   "outputs": [],
   "source": [
    "matches=soup.findAll('div',class_='footballbox')\n"
   ]
  },
  {
   "attachments": {},
   "cell_type": "markdown",
   "metadata": {},
   "source": [
    "Filtering Matches and adding to list for dataframe"
   ]
  },
  {
   "cell_type": "code",
   "execution_count": 55,
   "metadata": {},
   "outputs": [],
   "source": [
    "home=[]\n",
    "score=[]\n",
    "away=[]\n",
    "for match in matches:\n",
    "    home.append(match.find('th',class_='fhome').get_text())\n",
    "    score.append(match.find('th',class_='fscore').get_text())\n",
    "    away.append(match.find('th',class_='faway').get_text())\n",
    "#the elements have already been added to the lists"
   ]
  },
  {
   "attachments": {},
   "cell_type": "markdown",
   "metadata": {},
   "source": [
    "Creating the dictionary previusly for the Dataframe"
   ]
  },
  {
   "cell_type": "code",
   "execution_count": 66,
   "metadata": {},
   "outputs": [],
   "source": [
    "dict_football={'home':home ,'score':score ,'Away':away}\n",
    "df_football=pd.DataFrame(dict_football)\n",
    "df_football['year']='2014'"
   ]
  },
  {
   "attachments": {},
   "cell_type": "markdown",
   "metadata": {},
   "source": [
    "To make the work easier, we are going to use a function, that does exactly the same as the previous thing.."
   ]
  },
  {
   "cell_type": "code",
   "execution_count": 5,
   "metadata": {},
   "outputs": [],
   "source": [
    "def get_matches(year):\n",
    "    web=f'https://en.wikipedia.org/wiki/{year}_FIFA_World_Cup'\n",
    "    response=requests.get(web)\n",
    "    content=response.text\n",
    "    soup=BeautifulSoup(content,'lxml')\n",
    "    matches=soup.findAll('div',class_='footballbox')\n",
    "    home=[]\n",
    "    score=[]\n",
    "    away=[]\n",
    "    for match in matches:\n",
    "        home.append(match.find('th',class_='fhome').get_text())\n",
    "        score.append(match.find('th',class_='fscore').get_text())\n",
    "        away.append(match.find('th',class_='faway').get_text())\n",
    "    #the elements have already been added to the lists\n",
    "    dict_football={'home':home ,'score':score ,'Away':away}\n",
    "    df_football=pd.DataFrame(dict_football)\n",
    "    df_football['year']=year\n",
    "    return df_football"
   ]
  },
  {
   "attachments": {},
   "cell_type": "markdown",
   "metadata": {},
   "source": [
    "Let's try it.."
   ]
  },
  {
   "cell_type": "code",
   "execution_count": 71,
   "metadata": {},
   "outputs": [],
   "source": [
    "#get_matches(1930)"
   ]
  },
  {
   "attachments": {},
   "cell_type": "markdown",
   "metadata": {},
   "source": [
    "we are going to save all the dataframes in a list"
   ]
  },
  {
   "cell_type": "code",
   "execution_count": 12,
   "metadata": {},
   "outputs": [],
   "source": [
    "fifa=[get_matches(year)for year in years]\n",
    "df_fifa=pd.concat(fifa,ignore_index=True)"
   ]
  },
  {
   "attachments": {},
   "cell_type": "markdown",
   "metadata": {},
   "source": [
    "To csv..."
   ]
  },
  {
   "cell_type": "code",
   "execution_count": 32,
   "metadata": {},
   "outputs": [],
   "source": [
    "df_fifa.to_csv('Fifa_worldcup_historical_data1.csv',index=False)"
   ]
  }
 ],
 "metadata": {
  "kernelspec": {
   "display_name": "Python 3",
   "language": "python",
   "name": "python3"
  },
  "language_info": {
   "codemirror_mode": {
    "name": "ipython",
    "version": 3
   },
   "file_extension": ".py",
   "mimetype": "text/x-python",
   "name": "python",
   "nbconvert_exporter": "python",
   "pygments_lexer": "ipython3",
   "version": "3.10.10"
  },
  "orig_nbformat": 4
 },
 "nbformat": 4,
 "nbformat_minor": 2
}
