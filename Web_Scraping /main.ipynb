{
 "cells": [
  {
   "cell_type": "code",
   "execution_count": 164,
   "metadata": {},
   "outputs": [],
   "source": [
    "import pandas as pd\n",
    "from string import ascii_uppercase as alpha\n",
    "import pickle\n",
    "from bs4 import BeautifulSoup\n",
    "import requests\n",
    "import time\n",
    "from selenium import webdriver\n",
    "from selenium.webdriver.chrome.service import Service"
   ]
  },
  {
   "cell_type": "code",
   "execution_count": null,
   "metadata": {},
   "outputs": [],
   "source": [
    "all_tables=pd.read_html('https://web.archive.org/web/20221002180521/https://en.wikipedia.org/wiki/2022_FIFA_World_Cup')"
   ]
  },
  {
   "cell_type": "code",
   "execution_count": null,
   "metadata": {},
   "outputs": [],
   "source": [
    "dict_tables={}\n",
    "for letter,i in zip(alpha,range(11,67,7)):\n",
    "    df=all_tables[i]\n",
    "    df.rename(columns={df.columns[1]:'Team'},inplace=True)\n",
    "    dict_tables[f\"Cluster:{letter}\"]=df"
   ]
  },
  {
   "attachments": {},
   "cell_type": "markdown",
   "metadata": {},
   "source": [
    "To csv Fixture.."
   ]
  },
  {
   "cell_type": "code",
   "execution_count": null,
   "metadata": {},
   "outputs": [],
   "source": [
    "df=pd.concat(dict_tables)\n",
    "df.to_csv('Data/Fixture_2022.csv',index=False)"
   ]
  },
  {
   "attachments": {},
   "cell_type": "markdown",
   "metadata": {},
   "source": [
    "Starting to filter the page"
   ]
  },
  {
   "cell_type": "code",
   "execution_count": null,
   "metadata": {},
   "outputs": [],
   "source": [
    "years=[1930,1934,1938,1950,1954,1958,1962,1966,1970,1974,1978,1982,1986,1990,1994,1998,2002,2006,2010,2014,2018]"
   ]
  },
  {
   "attachments": {},
   "cell_type": "markdown",
   "metadata": {},
   "source": [
    "making a request"
   ]
  },
  {
   "cell_type": "code",
   "execution_count": null,
   "metadata": {},
   "outputs": [],
   "source": [
    "web='https://en.wikipedia.org/wiki/2014_FIFA_World_Cup'\n",
    "response=requests.get(web)"
   ]
  },
  {
   "attachments": {},
   "cell_type": "markdown",
   "metadata": {},
   "source": [
    "Loading text with Beatifulsoup"
   ]
  },
  {
   "cell_type": "code",
   "execution_count": null,
   "metadata": {},
   "outputs": [],
   "source": [
    "content=response.text\n",
    "soup=BeautifulSoup(content,'lxml')"
   ]
  },
  {
   "attachments": {},
   "cell_type": "markdown",
   "metadata": {},
   "source": [
    "Filtering rows on matches"
   ]
  },
  {
   "cell_type": "code",
   "execution_count": null,
   "metadata": {},
   "outputs": [],
   "source": [
    "matches=soup.findAll('div',class_='footballbox')\n"
   ]
  },
  {
   "attachments": {},
   "cell_type": "markdown",
   "metadata": {},
   "source": [
    "Filtering Matches and adding to list for dataframe"
   ]
  },
  {
   "cell_type": "code",
   "execution_count": null,
   "metadata": {},
   "outputs": [],
   "source": [
    "home=[]\n",
    "score=[]\n",
    "away=[]\n",
    "for match in matches:\n",
    "    home.append(match.find('th',class_='fhome').get_text())\n",
    "    score.append(match.find('th',class_='fscore').get_text())\n",
    "    away.append(match.find('th',class_='faway').get_text())\n",
    "#the elements have already been added to the lists"
   ]
  },
  {
   "attachments": {},
   "cell_type": "markdown",
   "metadata": {},
   "source": [
    "Creating the dictionary previusly for the Dataframe"
   ]
  },
  {
   "cell_type": "code",
   "execution_count": null,
   "metadata": {},
   "outputs": [],
   "source": [
    "dict_football={'home':home ,'score':score ,'Away':away}\n",
    "df_football=pd.DataFrame(dict_football)\n",
    "df_football['year']='2014'"
   ]
  },
  {
   "attachments": {},
   "cell_type": "markdown",
   "metadata": {},
   "source": [
    "To make the work easier, we are going to use a function, that does exactly the same as the previous thing.."
   ]
  },
  {
   "cell_type": "code",
   "execution_count": null,
   "metadata": {},
   "outputs": [],
   "source": [
    "def get_matches(year):\n",
    "    web=f'https://en.wikipedia.org/wiki/{year}_FIFA_World_Cup'\n",
    "    response=requests.get(web)\n",
    "    content=response.text\n",
    "    soup=BeautifulSoup(content,'lxml')\n",
    "    matches=soup.findAll('div',class_='footballbox')\n",
    "    home=[]\n",
    "    score=[]\n",
    "    away=[]\n",
    "    for match in matches:\n",
    "        home.append(match.find('th',class_='fhome').get_text())\n",
    "        score.append(match.find('th',class_='fscore').get_text())\n",
    "        away.append(match.find('th',class_='faway').get_text())\n",
    "    #the elements have already been added to the lists\n",
    "    dict_football={'home':home ,'score':score ,'Away':away}\n",
    "    df_football=pd.DataFrame(dict_football)\n",
    "    df_football['year']=year\n",
    "    return df_football"
   ]
  },
  {
   "attachments": {},
   "cell_type": "markdown",
   "metadata": {},
   "source": [
    "Let's try it.."
   ]
  },
  {
   "cell_type": "code",
   "execution_count": null,
   "metadata": {},
   "outputs": [],
   "source": [
    "#get_matches(1930)"
   ]
  },
  {
   "attachments": {},
   "cell_type": "markdown",
   "metadata": {},
   "source": [
    "we are going to save all the dataframes in a list"
   ]
  },
  {
   "cell_type": "code",
   "execution_count": null,
   "metadata": {},
   "outputs": [],
   "source": [
    "fifa=[get_matches(year)for year in years]\n",
    "df_fifa=pd.concat(fifa,ignore_index=True)"
   ]
  },
  {
   "attachments": {},
   "cell_type": "markdown",
   "metadata": {},
   "source": [
    "To csv..."
   ]
  },
  {
   "cell_type": "code",
   "execution_count": null,
   "metadata": {},
   "outputs": [],
   "source": [
    "df_fifa.to_csv('Data/Fifa_worldcup_historical_data1.csv',index=False)"
   ]
  },
  {
   "attachments": {},
   "cell_type": "markdown",
   "metadata": {},
   "source": [
    "Because in certain world cups, with beautifulsoup it is not possible to obtain the data, so we will use selenium, for this especific cups"
   ]
  },
  {
   "attachments": {},
   "cell_type": "markdown",
   "metadata": {},
   "source": [
    "Using selenium to improve the process for collect data"
   ]
  },
  {
   "cell_type": "code",
   "execution_count": null,
   "metadata": {},
   "outputs": [],
   "source": [
    "from selenium import webdriver\n",
    "from selenium.webdriver.chrome.service import Service\n",
    "\n"
   ]
  },
  {
   "attachments": {},
   "cell_type": "markdown",
   "metadata": {},
   "source": [
    "Importing the chromedriver"
   ]
  },
  {
   "cell_type": "code",
   "execution_count": null,
   "metadata": {},
   "outputs": [],
   "source": [
    "service = Service('chromedriver_linux64')"
   ]
  },
  {
   "attachments": {},
   "cell_type": "markdown",
   "metadata": {},
   "source": [
    "Creating driver to interacts to web page"
   ]
  },
  {
   "cell_type": "code",
   "execution_count": null,
   "metadata": {},
   "outputs": [],
   "source": [
    "driver=webdriver.Chrome(service=service)\n",
    "web='https://en.wikipedia.org/wiki/1982_FIFA_World_Cup'\n",
    "driver.get(web)\n"
   ]
  },
  {
   "attachments": {},
   "cell_type": "markdown",
   "metadata": {},
   "source": [
    "Getting the xpaht of the matches"
   ]
  },
  {
   "cell_type": "code",
   "execution_count": null,
   "metadata": {},
   "outputs": [],
   "source": [
    "matches=driver.find_elements(by='xpath',value=\"//th[@class='fhome']/..\")"
   ]
  },
  {
   "attachments": {},
   "cell_type": "markdown",
   "metadata": {},
   "source": [
    "Extracting the information from the score, home, away"
   ]
  },
  {
   "cell_type": "code",
   "execution_count": null,
   "metadata": {},
   "outputs": [],
   "source": [
    "home=[]\n",
    "score=[]\n",
    "away=[]\n",
    "for match in matches:\n",
    "    home.append(match.find_element(by='xpath',value=\"./th[1]\").text)\n",
    "    score.append(match.find_element(by='xpath',value=\"./th[2]\").text)\n",
    "    away.append(match.find_element(by='xpath',value=\"./th[3]\").text)"
   ]
  },
  {
   "attachments": {},
   "cell_type": "markdown",
   "metadata": {},
   "source": [
    "Creating a Dataframe.."
   ]
  },
  {
   "cell_type": "code",
   "execution_count": null,
   "metadata": {},
   "outputs": [],
   "source": [
    "dict_football2={'home':home,'score':score,'away':away}\n",
    "df_history_worldcup=pd.DataFrame(dict_football2)\n",
    "df_history_worldcup.to_csv('World_cup_1982.csv',index=False)\n"
   ]
  },
  {
   "attachments": {},
   "cell_type": "markdown",
   "metadata": {},
   "source": [
    "Now we are going to apply all that in a function that goes through all the world cups and prints it in a csv...."
   ]
  },
  {
   "cell_type": "code",
   "execution_count": null,
   "metadata": {},
   "outputs": [],
   "source": [
    "def get_all_dataworldcup(year):\n",
    "    service = Service('chromedriver_linux64')\n",
    "    driver=webdriver.Chrome(service=service)\n",
    "    web=f'https://en.wikipedia.org/wiki/{year}_FIFA_World_Cup'\n",
    "    driver.get(web)\n",
    "    matches=driver.find_elements(by='xpath',value=\"//th[@class='fhome']/..\")\n",
    "    home=[]\n",
    "    score=[]\n",
    "    away=[]\n",
    "    for match in matches:\n",
    "        home.append(match.find_element(by='xpath',value=\"./th[1]\").text)\n",
    "        score.append(match.find_element(by='xpath',value=\"./th[2]\").text)\n",
    "        away.append(match.find_element(by='xpath',value=\"./th[3]\").text)\n",
    "    dict_football2={'home':home,'score':score,'away':away}\n",
    "    df_history_worldcup=pd.DataFrame(dict_football2)\n",
    "    df_history_worldcup['year']=year\n",
    "    time.sleep(2)\n",
    "    return df_history_worldcup\n",
    "#this element is out of a function because\n",
    "fifa2=[get_all_dataworldcup(year) for year in years]\n",
    "df_fifa2=pd.concat(fifa2,ignore_index=True)\n",
    "df_fifa2.to_csv('Data/Fifa_worldcup_historical_data1.csv',index=False)\n",
    "driver.quit()"
   ]
  },
  {
   "attachments": {},
   "cell_type": "markdown",
   "metadata": {},
   "source": [
    "Now Clean data with Pandas!"
   ]
  },
  {
   "cell_type": "code",
   "execution_count": 165,
   "metadata": {},
   "outputs": [],
   "source": [
    "history=pd.read_csv('Data/Fifa_worldcup_missing_data.csv',)\n",
    "fixture=pd.read_csv('Data/Fixture_2022.csv')\n"
   ]
  },
  {
   "attachments": {},
   "cell_type": "markdown",
   "metadata": {},
   "source": [
    "Missing data.."
   ]
  },
  {
   "cell_type": "code",
   "execution_count": 166,
   "metadata": {},
   "outputs": [],
   "source": [
    "fixture['home']=fixture['home'].apply(lambda x: x.strip())\n",
    "fixture['away']=fixture['away'].str.strip()"
   ]
  },
  {
   "attachments": {},
   "cell_type": "markdown",
   "metadata": {},
   "source": [
    "Drop Null.."
   ]
  },
  {
   "cell_type": "code",
   "execution_count": 167,
   "metadata": {},
   "outputs": [],
   "source": [
    "history[history['home'].isnull()]\n",
    "history.drop_duplicates(inplace=True)\n",
    "history.sort_values('year',inplace=True)"
   ]
  },
  {
   "attachments": {},
   "cell_type": "markdown",
   "metadata": {},
   "source": [
    "As I am going to predict based on the goals, then the matches that were assigned arbitrarily I have to eliminate them for example the match between Sweden and Austria.."
   ]
  },
  {
   "cell_type": "code",
   "execution_count": 168,
   "metadata": {},
   "outputs": [
    {
     "data": {
      "text/html": [
       "<div>\n",
       "<style scoped>\n",
       "    .dataframe tbody tr th:only-of-type {\n",
       "        vertical-align: middle;\n",
       "    }\n",
       "\n",
       "    .dataframe tbody tr th {\n",
       "        vertical-align: top;\n",
       "    }\n",
       "\n",
       "    .dataframe thead th {\n",
       "        text-align: right;\n",
       "    }\n",
       "</style>\n",
       "<table border=\"1\" class=\"dataframe\">\n",
       "  <thead>\n",
       "    <tr style=\"text-align: right;\">\n",
       "      <th></th>\n",
       "      <th>home</th>\n",
       "      <th>score</th>\n",
       "      <th>away</th>\n",
       "      <th>year</th>\n",
       "    </tr>\n",
       "  </thead>\n",
       "  <tbody>\n",
       "    <tr>\n",
       "      <th>0</th>\n",
       "      <td>France</td>\n",
       "      <td>4–1</td>\n",
       "      <td>Mexico</td>\n",
       "      <td>1930</td>\n",
       "    </tr>\n",
       "    <tr>\n",
       "      <th>17</th>\n",
       "      <td>Uruguay</td>\n",
       "      <td>4–2</td>\n",
       "      <td>Argentina</td>\n",
       "      <td>1930</td>\n",
       "    </tr>\n",
       "    <tr>\n",
       "      <th>16</th>\n",
       "      <td>Uruguay</td>\n",
       "      <td>6–1</td>\n",
       "      <td>Yugoslavia</td>\n",
       "      <td>1930</td>\n",
       "    </tr>\n",
       "    <tr>\n",
       "      <th>15</th>\n",
       "      <td>Argentina</td>\n",
       "      <td>6–1</td>\n",
       "      <td>United States</td>\n",
       "      <td>1930</td>\n",
       "    </tr>\n",
       "    <tr>\n",
       "      <th>14</th>\n",
       "      <td>Paraguay</td>\n",
       "      <td>1–0</td>\n",
       "      <td>Belgium</td>\n",
       "      <td>1930</td>\n",
       "    </tr>\n",
       "    <tr>\n",
       "      <th>...</th>\n",
       "      <td>...</td>\n",
       "      <td>...</td>\n",
       "      <td>...</td>\n",
       "      <td>...</td>\n",
       "    </tr>\n",
       "    <tr>\n",
       "      <th>863</th>\n",
       "      <td>Brazil</td>\n",
       "      <td>2–0</td>\n",
       "      <td>Costa Rica</td>\n",
       "      <td>2018</td>\n",
       "    </tr>\n",
       "    <tr>\n",
       "      <th>864</th>\n",
       "      <td>Serbia</td>\n",
       "      <td>1–2</td>\n",
       "      <td>Switzerland</td>\n",
       "      <td>2018</td>\n",
       "    </tr>\n",
       "    <tr>\n",
       "      <th>865</th>\n",
       "      <td>Serbia</td>\n",
       "      <td>0–2</td>\n",
       "      <td>Brazil</td>\n",
       "      <td>2018</td>\n",
       "    </tr>\n",
       "    <tr>\n",
       "      <th>867</th>\n",
       "      <td>Germany</td>\n",
       "      <td>0–1</td>\n",
       "      <td>Mexico</td>\n",
       "      <td>2018</td>\n",
       "    </tr>\n",
       "    <tr>\n",
       "      <th>900</th>\n",
       "      <td>France</td>\n",
       "      <td>4–2</td>\n",
       "      <td>Croatia</td>\n",
       "      <td>2018</td>\n",
       "    </tr>\n",
       "  </tbody>\n",
       "</table>\n",
       "<p>900 rows × 4 columns</p>\n",
       "</div>"
      ],
      "text/plain": [
       "           home score            away  year\n",
       "0       France    4–1          Mexico  1930\n",
       "17     Uruguay    4–2       Argentina  1930\n",
       "16     Uruguay    6–1      Yugoslavia  1930\n",
       "15   Argentina    6–1   United States  1930\n",
       "14    Paraguay    1–0         Belgium  1930\n",
       "..          ...   ...             ...   ...\n",
       "863     Brazil    2–0      Costa Rica  2018\n",
       "864     Serbia    1–2     Switzerland  2018\n",
       "865     Serbia    0–2          Brazil  2018\n",
       "867    Germany    0–1          Mexico  2018\n",
       "900     France    4–2         Croatia  2018\n",
       "\n",
       "[900 rows x 4 columns]"
      ]
     },
     "execution_count": 168,
     "metadata": {},
     "output_type": "execute_result"
    }
   ],
   "source": [
    "index_element_todrop=history[history['home'].str.contains('Sweden') & history['away'].str.contains('Austria')].index\n",
    "history.drop(index=index_element_todrop,inplace=True,)\n",
    "history"
   ]
  },
  {
   "attachments": {},
   "cell_type": "markdown",
   "metadata": {},
   "source": [
    "There are many matches that have text data in the score, let's clean that up..."
   ]
  },
  {
   "cell_type": "code",
   "execution_count": 169,
   "metadata": {},
   "outputs": [
    {
     "data": {
      "text/html": [
       "<div>\n",
       "<style scoped>\n",
       "    .dataframe tbody tr th:only-of-type {\n",
       "        vertical-align: middle;\n",
       "    }\n",
       "\n",
       "    .dataframe tbody tr th {\n",
       "        vertical-align: top;\n",
       "    }\n",
       "\n",
       "    .dataframe thead th {\n",
       "        text-align: right;\n",
       "    }\n",
       "</style>\n",
       "<table border=\"1\" class=\"dataframe\">\n",
       "  <thead>\n",
       "    <tr style=\"text-align: right;\">\n",
       "      <th></th>\n",
       "      <th>home</th>\n",
       "      <th>score</th>\n",
       "      <th>away</th>\n",
       "      <th>year</th>\n",
       "    </tr>\n",
       "  </thead>\n",
       "  <tbody>\n",
       "    <tr>\n",
       "      <th>0</th>\n",
       "      <td>France</td>\n",
       "      <td>4–1</td>\n",
       "      <td>Mexico</td>\n",
       "      <td>1930</td>\n",
       "    </tr>\n",
       "    <tr>\n",
       "      <th>17</th>\n",
       "      <td>Uruguay</td>\n",
       "      <td>4–2</td>\n",
       "      <td>Argentina</td>\n",
       "      <td>1930</td>\n",
       "    </tr>\n",
       "    <tr>\n",
       "      <th>16</th>\n",
       "      <td>Uruguay</td>\n",
       "      <td>6–1</td>\n",
       "      <td>Yugoslavia</td>\n",
       "      <td>1930</td>\n",
       "    </tr>\n",
       "    <tr>\n",
       "      <th>15</th>\n",
       "      <td>Argentina</td>\n",
       "      <td>6–1</td>\n",
       "      <td>United States</td>\n",
       "      <td>1930</td>\n",
       "    </tr>\n",
       "    <tr>\n",
       "      <th>14</th>\n",
       "      <td>Paraguay</td>\n",
       "      <td>1–0</td>\n",
       "      <td>Belgium</td>\n",
       "      <td>1930</td>\n",
       "    </tr>\n",
       "    <tr>\n",
       "      <th>...</th>\n",
       "      <td>...</td>\n",
       "      <td>...</td>\n",
       "      <td>...</td>\n",
       "      <td>...</td>\n",
       "    </tr>\n",
       "    <tr>\n",
       "      <th>863</th>\n",
       "      <td>Brazil</td>\n",
       "      <td>2–0</td>\n",
       "      <td>Costa Rica</td>\n",
       "      <td>2018</td>\n",
       "    </tr>\n",
       "    <tr>\n",
       "      <th>864</th>\n",
       "      <td>Serbia</td>\n",
       "      <td>1–2</td>\n",
       "      <td>Switzerland</td>\n",
       "      <td>2018</td>\n",
       "    </tr>\n",
       "    <tr>\n",
       "      <th>865</th>\n",
       "      <td>Serbia</td>\n",
       "      <td>0–2</td>\n",
       "      <td>Brazil</td>\n",
       "      <td>2018</td>\n",
       "    </tr>\n",
       "    <tr>\n",
       "      <th>867</th>\n",
       "      <td>Germany</td>\n",
       "      <td>0–1</td>\n",
       "      <td>Mexico</td>\n",
       "      <td>2018</td>\n",
       "    </tr>\n",
       "    <tr>\n",
       "      <th>900</th>\n",
       "      <td>France</td>\n",
       "      <td>4–2</td>\n",
       "      <td>Croatia</td>\n",
       "      <td>2018</td>\n",
       "    </tr>\n",
       "  </tbody>\n",
       "</table>\n",
       "<p>900 rows × 4 columns</p>\n",
       "</div>"
      ],
      "text/plain": [
       "           home score            away  year\n",
       "0       France    4–1          Mexico  1930\n",
       "17     Uruguay    4–2       Argentina  1930\n",
       "16     Uruguay    6–1      Yugoslavia  1930\n",
       "15   Argentina    6–1   United States  1930\n",
       "14    Paraguay    1–0         Belgium  1930\n",
       "..          ...   ...             ...   ...\n",
       "863     Brazil    2–0      Costa Rica  2018\n",
       "864     Serbia    1–2     Switzerland  2018\n",
       "865     Serbia    0–2          Brazil  2018\n",
       "867    Germany    0–1          Mexico  2018\n",
       "900     France    4–2         Croatia  2018\n",
       "\n",
       "[900 rows x 4 columns]"
      ]
     },
     "execution_count": 169,
     "metadata": {},
     "output_type": "execute_result"
    }
   ],
   "source": [
    "# history[history['score'].str.contains('(a.e.t.)')]\n",
    "history['score']=history['score'].str.replace('[^\\d–\\d$]]','',regex=True)\n",
    "history"
   ]
  },
  {
   "attachments": {},
   "cell_type": "markdown",
   "metadata": {},
   "source": [
    "Now clean the dataframe history.."
   ]
  },
  {
   "cell_type": "code",
   "execution_count": 170,
   "metadata": {},
   "outputs": [],
   "source": [
    "history['home']=history['home'].str.strip()\n",
    "history['away']=history['away'].str.strip()"
   ]
  },
  {
   "attachments": {},
   "cell_type": "markdown",
   "metadata": {},
   "source": [
    "Now we are going to split the score column in 2, to train the model."
   ]
  },
  {
   "cell_type": "code",
   "execution_count": 175,
   "metadata": {},
   "outputs": [
    {
     "data": {
      "text/html": [
       "<div>\n",
       "<style scoped>\n",
       "    .dataframe tbody tr th:only-of-type {\n",
       "        vertical-align: middle;\n",
       "    }\n",
       "\n",
       "    .dataframe tbody tr th {\n",
       "        vertical-align: top;\n",
       "    }\n",
       "\n",
       "    .dataframe thead th {\n",
       "        text-align: right;\n",
       "    }\n",
       "</style>\n",
       "<table border=\"1\" class=\"dataframe\">\n",
       "  <thead>\n",
       "    <tr style=\"text-align: right;\">\n",
       "      <th></th>\n",
       "      <th>home</th>\n",
       "      <th>score</th>\n",
       "      <th>away</th>\n",
       "      <th>year</th>\n",
       "      <th>HomeGoals</th>\n",
       "      <th>AwayGoals</th>\n",
       "    </tr>\n",
       "  </thead>\n",
       "  <tbody>\n",
       "    <tr>\n",
       "      <th>0</th>\n",
       "      <td>France</td>\n",
       "      <td>4–1</td>\n",
       "      <td>Mexico</td>\n",
       "      <td>1930</td>\n",
       "      <td>4</td>\n",
       "      <td>1</td>\n",
       "    </tr>\n",
       "    <tr>\n",
       "      <th>17</th>\n",
       "      <td>Uruguay</td>\n",
       "      <td>4–2</td>\n",
       "      <td>Argentina</td>\n",
       "      <td>1930</td>\n",
       "      <td>4</td>\n",
       "      <td>2</td>\n",
       "    </tr>\n",
       "    <tr>\n",
       "      <th>16</th>\n",
       "      <td>Uruguay</td>\n",
       "      <td>6–1</td>\n",
       "      <td>Yugoslavia</td>\n",
       "      <td>1930</td>\n",
       "      <td>6</td>\n",
       "      <td>1</td>\n",
       "    </tr>\n",
       "    <tr>\n",
       "      <th>15</th>\n",
       "      <td>Argentina</td>\n",
       "      <td>6–1</td>\n",
       "      <td>United States</td>\n",
       "      <td>1930</td>\n",
       "      <td>6</td>\n",
       "      <td>1</td>\n",
       "    </tr>\n",
       "    <tr>\n",
       "      <th>14</th>\n",
       "      <td>Paraguay</td>\n",
       "      <td>1–0</td>\n",
       "      <td>Belgium</td>\n",
       "      <td>1930</td>\n",
       "      <td>1</td>\n",
       "      <td>0</td>\n",
       "    </tr>\n",
       "    <tr>\n",
       "      <th>...</th>\n",
       "      <td>...</td>\n",
       "      <td>...</td>\n",
       "      <td>...</td>\n",
       "      <td>...</td>\n",
       "      <td>...</td>\n",
       "      <td>...</td>\n",
       "    </tr>\n",
       "    <tr>\n",
       "      <th>863</th>\n",
       "      <td>Brazil</td>\n",
       "      <td>2–0</td>\n",
       "      <td>Costa Rica</td>\n",
       "      <td>2018</td>\n",
       "      <td>2</td>\n",
       "      <td>0</td>\n",
       "    </tr>\n",
       "    <tr>\n",
       "      <th>864</th>\n",
       "      <td>Serbia</td>\n",
       "      <td>1–2</td>\n",
       "      <td>Switzerland</td>\n",
       "      <td>2018</td>\n",
       "      <td>1</td>\n",
       "      <td>2</td>\n",
       "    </tr>\n",
       "    <tr>\n",
       "      <th>865</th>\n",
       "      <td>Serbia</td>\n",
       "      <td>0–2</td>\n",
       "      <td>Brazil</td>\n",
       "      <td>2018</td>\n",
       "      <td>0</td>\n",
       "      <td>2</td>\n",
       "    </tr>\n",
       "    <tr>\n",
       "      <th>867</th>\n",
       "      <td>Germany</td>\n",
       "      <td>0–1</td>\n",
       "      <td>Mexico</td>\n",
       "      <td>2018</td>\n",
       "      <td>0</td>\n",
       "      <td>1</td>\n",
       "    </tr>\n",
       "    <tr>\n",
       "      <th>900</th>\n",
       "      <td>France</td>\n",
       "      <td>4–2</td>\n",
       "      <td>Croatia</td>\n",
       "      <td>2018</td>\n",
       "      <td>4</td>\n",
       "      <td>2</td>\n",
       "    </tr>\n",
       "  </tbody>\n",
       "</table>\n",
       "<p>900 rows × 6 columns</p>\n",
       "</div>"
      ],
      "text/plain": [
       "          home score           away  year HomeGoals AwayGoals\n",
       "0       France   4–1         Mexico  1930         4         1\n",
       "17     Uruguay   4–2      Argentina  1930         4         2\n",
       "16     Uruguay   6–1     Yugoslavia  1930         6         1\n",
       "15   Argentina   6–1  United States  1930         6         1\n",
       "14    Paraguay   1–0        Belgium  1930         1         0\n",
       "..         ...   ...            ...   ...       ...       ...\n",
       "863     Brazil   2–0     Costa Rica  2018         2         0\n",
       "864     Serbia   1–2    Switzerland  2018         1         2\n",
       "865     Serbia   0–2         Brazil  2018         0         2\n",
       "867    Germany   0–1         Mexico  2018         0         1\n",
       "900     France   4–2        Croatia  2018         4         2\n",
       "\n",
       "[900 rows x 6 columns]"
      ]
     },
     "execution_count": 175,
     "metadata": {},
     "output_type": "execute_result"
    }
   ],
   "source": [
    "history[['HomeGoals','AwayGoals']]=history['score'].str.split('–',expand=True)\n",
    "history.drop('score',axis=1)"
   ]
  }
 ],
 "metadata": {
  "kernelspec": {
   "display_name": "Python 3",
   "language": "python",
   "name": "python3"
  },
  "language_info": {
   "codemirror_mode": {
    "name": "ipython",
    "version": 3
   },
   "file_extension": ".py",
   "mimetype": "text/x-python",
   "name": "python",
   "nbconvert_exporter": "python",
   "pygments_lexer": "ipython3",
   "version": "3.10.10"
  },
  "orig_nbformat": 4
 },
 "nbformat": 4,
 "nbformat_minor": 2
}
