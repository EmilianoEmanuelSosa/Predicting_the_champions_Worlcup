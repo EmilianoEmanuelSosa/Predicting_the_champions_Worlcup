{
 "cells": [
  {
   "cell_type": "code",
   "execution_count": 50,
   "metadata": {},
   "outputs": [],
   "source": [
    "import pandas as pd\n",
    "from string import ascii_uppercase as alpha\n",
    "import pickle\n",
    "from bs4 import BeautifulSoup\n",
    "import requests\n",
    "import time"
   ]
  },
  {
   "cell_type": "code",
   "execution_count": 24,
   "metadata": {},
   "outputs": [],
   "source": [
    "all_tables=pd.read_html('https://web.archive.org/web/20221002180521/https://en.wikipedia.org/wiki/2022_FIFA_World_Cup')"
   ]
  },
  {
   "cell_type": "code",
   "execution_count": 25,
   "metadata": {},
   "outputs": [],
   "source": [
    "dict_tables={}\n",
    "for letter,i in zip(alpha,range(11,67,7)):\n",
    "    df=all_tables[i]\n",
    "    df.rename(columns={df.columns[1]:'Team'},inplace=True)\n",
    "    dict_tables[f\"Cluster:{letter}\"]=df"
   ]
  },
  {
   "attachments": {},
   "cell_type": "markdown",
   "metadata": {},
   "source": [
    "To csv Fixture.."
   ]
  },
  {
   "cell_type": "code",
   "execution_count": 26,
   "metadata": {},
   "outputs": [],
   "source": [
    "df=pd.concat(dict_tables)\n",
    "df.to_csv('Fixture_2022.csv',index=False)"
   ]
  },
  {
   "attachments": {},
   "cell_type": "markdown",
   "metadata": {},
   "source": [
    "Starting to filter the page"
   ]
  },
  {
   "cell_type": "code",
   "execution_count": 28,
   "metadata": {},
   "outputs": [],
   "source": [
    "years=[1930,1934,1938,1950,1954,1958,1962,1966,1970,1974,1978,1982,1986,1990,1994,1998,2002,2006,2010,2014,2018]"
   ]
  },
  {
   "attachments": {},
   "cell_type": "markdown",
   "metadata": {},
   "source": [
    "making a request"
   ]
  },
  {
   "cell_type": "code",
   "execution_count": 29,
   "metadata": {},
   "outputs": [],
   "source": [
    "web='https://en.wikipedia.org/wiki/2014_FIFA_World_Cup'\n",
    "response=requests.get(web)"
   ]
  },
  {
   "attachments": {},
   "cell_type": "markdown",
   "metadata": {},
   "source": [
    "Loading text with Beatifulsoup"
   ]
  },
  {
   "cell_type": "code",
   "execution_count": 30,
   "metadata": {},
   "outputs": [],
   "source": [
    "content=response.text\n",
    "soup=BeautifulSoup(content,'lxml')"
   ]
  },
  {
   "attachments": {},
   "cell_type": "markdown",
   "metadata": {},
   "source": [
    "Filtering rows on matches"
   ]
  },
  {
   "cell_type": "code",
   "execution_count": 31,
   "metadata": {},
   "outputs": [],
   "source": [
    "matches=soup.findAll('div',class_='footballbox')\n"
   ]
  },
  {
   "attachments": {},
   "cell_type": "markdown",
   "metadata": {},
   "source": [
    "Filtering Matches and adding to list for dataframe"
   ]
  },
  {
   "cell_type": "code",
   "execution_count": 32,
   "metadata": {},
   "outputs": [],
   "source": [
    "home=[]\n",
    "score=[]\n",
    "away=[]\n",
    "for match in matches:\n",
    "    home.append(match.find('th',class_='fhome').get_text())\n",
    "    score.append(match.find('th',class_='fscore').get_text())\n",
    "    away.append(match.find('th',class_='faway').get_text())\n",
    "#the elements have already been added to the lists"
   ]
  },
  {
   "attachments": {},
   "cell_type": "markdown",
   "metadata": {},
   "source": [
    "Creating the dictionary previusly for the Dataframe"
   ]
  },
  {
   "cell_type": "code",
   "execution_count": 33,
   "metadata": {},
   "outputs": [],
   "source": [
    "dict_football={'home':home ,'score':score ,'Away':away}\n",
    "df_football=pd.DataFrame(dict_football)\n",
    "df_football['year']='2014'"
   ]
  },
  {
   "attachments": {},
   "cell_type": "markdown",
   "metadata": {},
   "source": [
    "To make the work easier, we are going to use a function, that does exactly the same as the previous thing.."
   ]
  },
  {
   "cell_type": "code",
   "execution_count": 34,
   "metadata": {},
   "outputs": [],
   "source": [
    "def get_matches(year):\n",
    "    web=f'https://en.wikipedia.org/wiki/{year}_FIFA_World_Cup'\n",
    "    response=requests.get(web)\n",
    "    content=response.text\n",
    "    soup=BeautifulSoup(content,'lxml')\n",
    "    matches=soup.findAll('div',class_='footballbox')\n",
    "    home=[]\n",
    "    score=[]\n",
    "    away=[]\n",
    "    for match in matches:\n",
    "        home.append(match.find('th',class_='fhome').get_text())\n",
    "        score.append(match.find('th',class_='fscore').get_text())\n",
    "        away.append(match.find('th',class_='faway').get_text())\n",
    "    #the elements have already been added to the lists\n",
    "    dict_football={'home':home ,'score':score ,'Away':away}\n",
    "    df_football=pd.DataFrame(dict_football)\n",
    "    df_football['year']=year\n",
    "    return df_football"
   ]
  },
  {
   "attachments": {},
   "cell_type": "markdown",
   "metadata": {},
   "source": [
    "Let's try it.."
   ]
  },
  {
   "cell_type": "code",
   "execution_count": 35,
   "metadata": {},
   "outputs": [],
   "source": [
    "#get_matches(1930)"
   ]
  },
  {
   "attachments": {},
   "cell_type": "markdown",
   "metadata": {},
   "source": [
    "we are going to save all the dataframes in a list"
   ]
  },
  {
   "cell_type": "code",
   "execution_count": 36,
   "metadata": {},
   "outputs": [],
   "source": [
    "fifa=[get_matches(year)for year in years]\n",
    "df_fifa=pd.concat(fifa,ignore_index=True)"
   ]
  },
  {
   "attachments": {},
   "cell_type": "markdown",
   "metadata": {},
   "source": [
    "To csv..."
   ]
  },
  {
   "cell_type": "code",
   "execution_count": 37,
   "metadata": {},
   "outputs": [],
   "source": [
    "df_fifa.to_csv('Fifa_worldcup_historical_data1.csv',index=False)"
   ]
  },
  {
   "attachments": {},
   "cell_type": "markdown",
   "metadata": {},
   "source": [
    "Because in certain world cups, with beautifulsoup it is not possible to obtain the data, so we will use selenium, for this especific cups"
   ]
  },
  {
   "attachments": {},
   "cell_type": "markdown",
   "metadata": {},
   "source": [
    "Using selenium to improve the process for collect data"
   ]
  },
  {
   "cell_type": "code",
   "execution_count": 53,
   "metadata": {},
   "outputs": [],
   "source": [
    "from selenium import webdriver\n",
    "from selenium.webdriver.chrome.service import Service\n",
    "\n"
   ]
  },
  {
   "attachments": {},
   "cell_type": "markdown",
   "metadata": {},
   "source": [
    "Importing the chromedriver"
   ]
  },
  {
   "cell_type": "code",
   "execution_count": 39,
   "metadata": {},
   "outputs": [],
   "source": [
    "service = Service('chromedriver_linux64')"
   ]
  },
  {
   "attachments": {},
   "cell_type": "markdown",
   "metadata": {},
   "source": [
    "Creating driver to interacts to web page"
   ]
  },
  {
   "cell_type": "code",
   "execution_count": 40,
   "metadata": {},
   "outputs": [],
   "source": [
    "driver=webdriver.Chrome(service=service)\n",
    "web='https://en.wikipedia.org/wiki/1982_FIFA_World_Cup'\n",
    "driver.get(web)\n"
   ]
  },
  {
   "attachments": {},
   "cell_type": "markdown",
   "metadata": {},
   "source": [
    "Getting the xpaht of the matches"
   ]
  },
  {
   "cell_type": "code",
   "execution_count": 41,
   "metadata": {},
   "outputs": [],
   "source": [
    "matches=driver.find_elements(by='xpath',value=\"//th[@class='fhome']/..\")"
   ]
  },
  {
   "attachments": {},
   "cell_type": "markdown",
   "metadata": {},
   "source": [
    "Extracting the information from the score, home, away"
   ]
  },
  {
   "cell_type": "code",
   "execution_count": 47,
   "metadata": {},
   "outputs": [],
   "source": [
    "home=[]\n",
    "score=[]\n",
    "away=[]\n",
    "for match in matches:\n",
    "    home.append(match.find_element(by='xpath',value=\"./th[1]\").text)\n",
    "    score.append(match.find_element(by='xpath',value=\"./th[2]\").text)\n",
    "    away.append(match.find_element(by='xpath',value=\"./th[3]\").text)"
   ]
  },
  {
   "attachments": {},
   "cell_type": "markdown",
   "metadata": {},
   "source": [
    "Creating a Dataframe.."
   ]
  },
  {
   "cell_type": "code",
   "execution_count": 49,
   "metadata": {},
   "outputs": [],
   "source": [
    "dict_football2={'home':home,'score':score,'away':away}\n",
    "df_history_worldcup=pd.DataFrame(dict_football2)\n",
    "df_history_worldcup.to_csv('World_cup_1982.csv',index=False)\n"
   ]
  },
  {
   "attachments": {},
   "cell_type": "markdown",
   "metadata": {},
   "source": [
    "Now we are going to apply all that in a function that goes through all the world cups and prints it in a csv...."
   ]
  },
  {
   "cell_type": "code",
   "execution_count": 56,
   "metadata": {},
   "outputs": [],
   "source": [
    "def get_all_dataworldcup(year):\n",
    "    service = Service('chromedriver_linux64')\n",
    "    driver=webdriver.Chrome(service=service)\n",
    "    web=f'https://en.wikipedia.org/wiki/{year}_FIFA_World_Cup'\n",
    "    driver.get(web)\n",
    "    matches=driver.find_elements(by='xpath',value=\"//th[@class='fhome']/..\")\n",
    "    home=[]\n",
    "    score=[]\n",
    "    away=[]\n",
    "    for match in matches:\n",
    "        home.append(match.find_element(by='xpath',value=\"./th[1]\").text)\n",
    "        score.append(match.find_element(by='xpath',value=\"./th[2]\").text)\n",
    "        away.append(match.find_element(by='xpath',value=\"./th[3]\").text)\n",
    "    dict_football2={'home':home,'score':score,'away':away}\n",
    "    df_history_worldcup=pd.DataFrame(dict_football2)\n",
    "    df_history_worldcup['year']=year\n",
    "    time.sleep(2)\n",
    "    return df_history_worldcup\n",
    "#this element is out of a function because\n",
    "fifa2=[get_all_dataworldcup(year) for year in years]\n",
    "df_fifa2=pd.concat(fifa2,ignore_index=True)\n",
    "df_fifa2.to_csv('Fifa_worldcup_missing_data.csv',index=False)\n",
    "driver.quit()"
   ]
  }
 ],
 "metadata": {
  "kernelspec": {
   "display_name": "Python 3",
   "language": "python",
   "name": "python3"
  },
  "language_info": {
   "codemirror_mode": {
    "name": "ipython",
    "version": 3
   },
   "file_extension": ".py",
   "mimetype": "text/x-python",
   "name": "python",
   "nbconvert_exporter": "python",
   "pygments_lexer": "ipython3",
   "version": "3.10.10"
  },
  "orig_nbformat": 4
 },
 "nbformat": 4,
 "nbformat_minor": 2
}
